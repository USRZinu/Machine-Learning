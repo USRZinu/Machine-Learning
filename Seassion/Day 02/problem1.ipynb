{
 "cells": [
  {
   "cell_type": "markdown",
   "id": "6fdff603",
   "metadata": {},
   "source": [
    "Practicing Some Problem"
   ]
  },
  {
   "cell_type": "code",
   "execution_count": 1,
   "id": "e3660402",
   "metadata": {},
   "outputs": [
    {
     "name": "stdout",
     "output_type": "stream",
     "text": [
      "Your name is : zinu\n"
     ]
    }
   ],
   "source": [
    "name = input(\"Please enter your name\")\n",
    "print(\"Your name is :\", name)"
   ]
  }
 ],
 "metadata": {
  "kernelspec": {
   "display_name": "Python 3",
   "language": "python",
   "name": "python3"
  },
  "language_info": {
   "codemirror_mode": {
    "name": "ipython",
    "version": 3
   },
   "file_extension": ".py",
   "mimetype": "text/x-python",
   "name": "python",
   "nbconvert_exporter": "python",
   "pygments_lexer": "ipython3",
   "version": "3.13.7"
  }
 },
 "nbformat": 4,
 "nbformat_minor": 5
}
